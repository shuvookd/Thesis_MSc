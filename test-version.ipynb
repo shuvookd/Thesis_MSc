{
 "cells": [
  {
   "cell_type": "code",
   "execution_count": 1,
   "id": "bc81f484",
   "metadata": {
    "_cell_guid": "b1076dfc-b9ad-4769-8c92-a6c4dae69d19",
    "_uuid": "8f2839f25d086af736a60e9eeb907d3b93b6e0e5",
    "execution": {
     "iopub.execute_input": "2025-08-07T13:53:35.912603Z",
     "iopub.status.busy": "2025-08-07T13:53:35.912324Z",
     "iopub.status.idle": "2025-08-07T13:53:55.753600Z",
     "shell.execute_reply": "2025-08-07T13:53:55.752790Z"
    },
    "papermill": {
     "duration": 19.846096,
     "end_time": "2025-08-07T13:53:55.754748",
     "exception": false,
     "start_time": "2025-08-07T13:53:35.908652",
     "status": "completed"
    },
    "tags": []
   },
   "outputs": [
    {
     "data": {
      "text/html": [
       "<div>\n",
       "<style scoped>\n",
       "    .dataframe tbody tr th:only-of-type {\n",
       "        vertical-align: middle;\n",
       "    }\n",
       "\n",
       "    .dataframe tbody tr th {\n",
       "        vertical-align: top;\n",
       "    }\n",
       "\n",
       "    .dataframe thead th {\n",
       "        text-align: right;\n",
       "    }\n",
       "</style>\n",
       "<table border=\"1\" class=\"dataframe\">\n",
       "  <thead>\n",
       "    <tr style=\"text-align: right;\">\n",
       "      <th></th>\n",
       "      <th>0</th>\n",
       "      <th>1</th>\n",
       "      <th>2</th>\n",
       "      <th>3</th>\n",
       "      <th>4</th>\n",
       "      <th>5</th>\n",
       "      <th>6</th>\n",
       "      <th>7</th>\n",
       "      <th>8</th>\n",
       "      <th>9</th>\n",
       "      <th>...</th>\n",
       "      <th>32</th>\n",
       "      <th>33</th>\n",
       "      <th>34</th>\n",
       "      <th>35</th>\n",
       "      <th>36</th>\n",
       "      <th>37</th>\n",
       "      <th>38</th>\n",
       "      <th>39</th>\n",
       "      <th>40</th>\n",
       "      <th>41</th>\n",
       "    </tr>\n",
       "  </thead>\n",
       "  <tbody>\n",
       "    <tr>\n",
       "      <th>0</th>\n",
       "      <td>0</td>\n",
       "      <td>tcp</td>\n",
       "      <td>http</td>\n",
       "      <td>SF</td>\n",
       "      <td>215</td>\n",
       "      <td>45076</td>\n",
       "      <td>0</td>\n",
       "      <td>0</td>\n",
       "      <td>0</td>\n",
       "      <td>0</td>\n",
       "      <td>...</td>\n",
       "      <td>0</td>\n",
       "      <td>0.0</td>\n",
       "      <td>0.0</td>\n",
       "      <td>0.00</td>\n",
       "      <td>0.0</td>\n",
       "      <td>0.0</td>\n",
       "      <td>0.0</td>\n",
       "      <td>0.0</td>\n",
       "      <td>0.0</td>\n",
       "      <td>normal.</td>\n",
       "    </tr>\n",
       "    <tr>\n",
       "      <th>1</th>\n",
       "      <td>0</td>\n",
       "      <td>tcp</td>\n",
       "      <td>http</td>\n",
       "      <td>SF</td>\n",
       "      <td>162</td>\n",
       "      <td>4528</td>\n",
       "      <td>0</td>\n",
       "      <td>0</td>\n",
       "      <td>0</td>\n",
       "      <td>0</td>\n",
       "      <td>...</td>\n",
       "      <td>1</td>\n",
       "      <td>1.0</td>\n",
       "      <td>0.0</td>\n",
       "      <td>1.00</td>\n",
       "      <td>0.0</td>\n",
       "      <td>0.0</td>\n",
       "      <td>0.0</td>\n",
       "      <td>0.0</td>\n",
       "      <td>0.0</td>\n",
       "      <td>normal.</td>\n",
       "    </tr>\n",
       "    <tr>\n",
       "      <th>2</th>\n",
       "      <td>0</td>\n",
       "      <td>tcp</td>\n",
       "      <td>http</td>\n",
       "      <td>SF</td>\n",
       "      <td>236</td>\n",
       "      <td>1228</td>\n",
       "      <td>0</td>\n",
       "      <td>0</td>\n",
       "      <td>0</td>\n",
       "      <td>0</td>\n",
       "      <td>...</td>\n",
       "      <td>2</td>\n",
       "      <td>1.0</td>\n",
       "      <td>0.0</td>\n",
       "      <td>0.50</td>\n",
       "      <td>0.0</td>\n",
       "      <td>0.0</td>\n",
       "      <td>0.0</td>\n",
       "      <td>0.0</td>\n",
       "      <td>0.0</td>\n",
       "      <td>normal.</td>\n",
       "    </tr>\n",
       "    <tr>\n",
       "      <th>3</th>\n",
       "      <td>0</td>\n",
       "      <td>tcp</td>\n",
       "      <td>http</td>\n",
       "      <td>SF</td>\n",
       "      <td>233</td>\n",
       "      <td>2032</td>\n",
       "      <td>0</td>\n",
       "      <td>0</td>\n",
       "      <td>0</td>\n",
       "      <td>0</td>\n",
       "      <td>...</td>\n",
       "      <td>3</td>\n",
       "      <td>1.0</td>\n",
       "      <td>0.0</td>\n",
       "      <td>0.33</td>\n",
       "      <td>0.0</td>\n",
       "      <td>0.0</td>\n",
       "      <td>0.0</td>\n",
       "      <td>0.0</td>\n",
       "      <td>0.0</td>\n",
       "      <td>normal.</td>\n",
       "    </tr>\n",
       "    <tr>\n",
       "      <th>4</th>\n",
       "      <td>0</td>\n",
       "      <td>tcp</td>\n",
       "      <td>http</td>\n",
       "      <td>SF</td>\n",
       "      <td>239</td>\n",
       "      <td>486</td>\n",
       "      <td>0</td>\n",
       "      <td>0</td>\n",
       "      <td>0</td>\n",
       "      <td>0</td>\n",
       "      <td>...</td>\n",
       "      <td>4</td>\n",
       "      <td>1.0</td>\n",
       "      <td>0.0</td>\n",
       "      <td>0.25</td>\n",
       "      <td>0.0</td>\n",
       "      <td>0.0</td>\n",
       "      <td>0.0</td>\n",
       "      <td>0.0</td>\n",
       "      <td>0.0</td>\n",
       "      <td>normal.</td>\n",
       "    </tr>\n",
       "  </tbody>\n",
       "</table>\n",
       "<p>5 rows × 42 columns</p>\n",
       "</div>"
      ],
      "text/plain": [
       "   0    1     2   3    4      5   6   7   8   9   ...  32   33   34    35  \\\n",
       "0   0  tcp  http  SF  215  45076   0   0   0   0  ...   0  0.0  0.0  0.00   \n",
       "1   0  tcp  http  SF  162   4528   0   0   0   0  ...   1  1.0  0.0  1.00   \n",
       "2   0  tcp  http  SF  236   1228   0   0   0   0  ...   2  1.0  0.0  0.50   \n",
       "3   0  tcp  http  SF  233   2032   0   0   0   0  ...   3  1.0  0.0  0.33   \n",
       "4   0  tcp  http  SF  239    486   0   0   0   0  ...   4  1.0  0.0  0.25   \n",
       "\n",
       "    36   37   38   39   40       41  \n",
       "0  0.0  0.0  0.0  0.0  0.0  normal.  \n",
       "1  0.0  0.0  0.0  0.0  0.0  normal.  \n",
       "2  0.0  0.0  0.0  0.0  0.0  normal.  \n",
       "3  0.0  0.0  0.0  0.0  0.0  normal.  \n",
       "4  0.0  0.0  0.0  0.0  0.0  normal.  \n",
       "\n",
       "[5 rows x 42 columns]"
      ]
     },
     "execution_count": 1,
     "metadata": {},
     "output_type": "execute_result"
    }
   ],
   "source": [
    "import pandas as pd\n",
    "\n",
    "# Load the full KDD Cup 1999 dataset\n",
    "df = pd.read_csv('/kaggle/input/kdd-cup-1999-data/kddcup.data.corrected', header=None)\n",
    "\n",
    "# Preview the first few rows\n",
    "df.head()"
   ]
  },
  {
   "cell_type": "code",
   "execution_count": 2,
   "id": "e14e444e",
   "metadata": {
    "execution": {
     "iopub.execute_input": "2025-08-07T13:53:55.760575Z",
     "iopub.status.busy": "2025-08-07T13:53:55.760353Z",
     "iopub.status.idle": "2025-08-07T13:53:55.764504Z",
     "shell.execute_reply": "2025-08-07T13:53:55.763998Z"
    },
    "papermill": {
     "duration": 0.008078,
     "end_time": "2025-08-07T13:53:55.765516",
     "exception": false,
     "start_time": "2025-08-07T13:53:55.757438",
     "status": "completed"
    },
    "tags": []
   },
   "outputs": [],
   "source": [
    "column_names = [\n",
    "    \"duration\", \"protocol_type\", \"service\", \"flag\", \"src_bytes\", \"dst_bytes\", \n",
    "    \"land\", \"wrong_fragment\", \"urgent\", \"hot\", \"num_failed_logins\", \n",
    "    \"logged_in\", \"num_compromised\", \"root_shell\", \"su_attempted\", \n",
    "    \"num_root\", \"num_file_creations\", \"num_shells\", \"num_access_files\", \n",
    "    \"num_outbound_cmds\", \"is_host_login\", \"is_guest_login\", \"count\", \n",
    "    \"srv_count\", \"serror_rate\", \"srv_serror_rate\", \"rerror_rate\", \n",
    "    \"srv_rerror_rate\", \"same_srv_rate\", \"diff_srv_rate\", \"srv_diff_host_rate\", \n",
    "    \"dst_host_count\", \"dst_host_srv_count\", \"dst_host_same_srv_rate\", \n",
    "    \"dst_host_diff_srv_rate\", \"dst_host_same_src_port_rate\", \n",
    "    \"dst_host_srv_diff_host_rate\", \"dst_host_serror_rate\", \n",
    "    \"dst_host_srv_serror_rate\", \"dst_host_rerror_rate\", \n",
    "    \"dst_host_srv_rerror_rate\", \"label\"\n",
    "]\n",
    "\n",
    "# Assign column names to the dataframe\n",
    "df.columns = column_names"
   ]
  },
  {
   "cell_type": "code",
   "execution_count": 3,
   "id": "b8944dbe",
   "metadata": {
    "execution": {
     "iopub.execute_input": "2025-08-07T13:53:55.771049Z",
     "iopub.status.busy": "2025-08-07T13:53:55.770635Z",
     "iopub.status.idle": "2025-08-07T13:53:56.080670Z",
     "shell.execute_reply": "2025-08-07T13:53:56.079962Z"
    },
    "papermill": {
     "duration": 0.314028,
     "end_time": "2025-08-07T13:53:56.081857",
     "exception": false,
     "start_time": "2025-08-07T13:53:55.767829",
     "status": "completed"
    },
    "tags": []
   },
   "outputs": [
    {
     "name": "stdout",
     "output_type": "stream",
     "text": [
      "Dataset shape: (4898431, 42)\n",
      "label\n",
      "smurf.              2807886\n",
      "neptune.            1072017\n",
      "normal.              972781\n",
      "satan.                15892\n",
      "ipsweep.              12481\n",
      "portsweep.            10413\n",
      "nmap.                  2316\n",
      "back.                  2203\n",
      "warezclient.           1020\n",
      "teardrop.               979\n",
      "pod.                    264\n",
      "guess_passwd.            53\n",
      "buffer_overflow.         30\n",
      "land.                    21\n",
      "warezmaster.             20\n",
      "imap.                    12\n",
      "rootkit.                 10\n",
      "loadmodule.               9\n",
      "ftp_write.                8\n",
      "multihop.                 7\n",
      "phf.                      4\n",
      "perl.                     3\n",
      "spy.                      2\n",
      "Name: count, dtype: int64\n"
     ]
    }
   ],
   "source": [
    "# Show dataset shape\n",
    "print(\"Dataset shape:\", df.shape)\n",
    "\n",
    "# Show label distribution\n",
    "print(df['label'].value_counts())"
   ]
  },
  {
   "cell_type": "code",
   "execution_count": 4,
   "id": "01a386e1",
   "metadata": {
    "execution": {
     "iopub.execute_input": "2025-08-07T13:53:56.087869Z",
     "iopub.status.busy": "2025-08-07T13:53:56.087618Z",
     "iopub.status.idle": "2025-08-07T13:53:56.681576Z",
     "shell.execute_reply": "2025-08-07T13:53:56.680979Z"
    },
    "papermill": {
     "duration": 0.598273,
     "end_time": "2025-08-07T13:53:56.682923",
     "exception": false,
     "start_time": "2025-08-07T13:53:56.084650",
     "status": "completed"
    },
    "tags": []
   },
   "outputs": [],
   "source": [
    "df['label'] = df['label'].apply(lambda x: 'normal' if x == 'normal.' else 'attack')"
   ]
  },
  {
   "cell_type": "code",
   "execution_count": 5,
   "id": "acbae29b",
   "metadata": {
    "execution": {
     "iopub.execute_input": "2025-08-07T13:53:56.688913Z",
     "iopub.status.busy": "2025-08-07T13:53:56.688666Z",
     "iopub.status.idle": "2025-08-07T13:53:57.270356Z",
     "shell.execute_reply": "2025-08-07T13:53:57.269760Z"
    },
    "papermill": {
     "duration": 0.586067,
     "end_time": "2025-08-07T13:53:57.271634",
     "exception": false,
     "start_time": "2025-08-07T13:53:56.685567",
     "status": "completed"
    },
    "tags": []
   },
   "outputs": [],
   "source": [
    "for col in ['protocol_type', 'service', 'flag']:\n",
    "    df[col], _ = pd.factorize(df[col])"
   ]
  },
  {
   "cell_type": "code",
   "execution_count": 6,
   "id": "728c2c0a",
   "metadata": {
    "execution": {
     "iopub.execute_input": "2025-08-07T13:53:57.277735Z",
     "iopub.status.busy": "2025-08-07T13:53:57.277498Z",
     "iopub.status.idle": "2025-08-07T13:53:57.490575Z",
     "shell.execute_reply": "2025-08-07T13:53:57.489986Z"
    },
    "papermill": {
     "duration": 0.2175,
     "end_time": "2025-08-07T13:53:57.491884",
     "exception": false,
     "start_time": "2025-08-07T13:53:57.274384",
     "status": "completed"
    },
    "tags": []
   },
   "outputs": [],
   "source": [
    "df['label'], _ = pd.factorize(df['label'])  # 0: attack, 1: normal (order may vary)"
   ]
  },
  {
   "cell_type": "code",
   "execution_count": 7,
   "id": "98a44ac7",
   "metadata": {
    "execution": {
     "iopub.execute_input": "2025-08-07T13:53:57.497829Z",
     "iopub.status.busy": "2025-08-07T13:53:57.497583Z",
     "iopub.status.idle": "2025-08-07T13:53:57.527458Z",
     "shell.execute_reply": "2025-08-07T13:53:57.526941Z"
    },
    "papermill": {
     "duration": 0.033862,
     "end_time": "2025-08-07T13:53:57.528450",
     "exception": false,
     "start_time": "2025-08-07T13:53:57.494588",
     "status": "completed"
    },
    "tags": []
   },
   "outputs": [
    {
     "data": {
      "text/plain": [
       "label\n",
       "1    3925650\n",
       "0     972781\n",
       "Name: count, dtype: int64"
      ]
     },
     "execution_count": 7,
     "metadata": {},
     "output_type": "execute_result"
    }
   ],
   "source": [
    "df['label'].value_counts()"
   ]
  },
  {
   "cell_type": "code",
   "execution_count": 8,
   "id": "d13b5fce",
   "metadata": {
    "execution": {
     "iopub.execute_input": "2025-08-07T13:53:57.534459Z",
     "iopub.status.busy": "2025-08-07T13:53:57.534264Z",
     "iopub.status.idle": "2025-08-07T13:54:01.445785Z",
     "shell.execute_reply": "2025-08-07T13:54:01.444914Z"
    },
    "papermill": {
     "duration": 3.916182,
     "end_time": "2025-08-07T13:54:01.447292",
     "exception": false,
     "start_time": "2025-08-07T13:53:57.531110",
     "status": "completed"
    },
    "tags": []
   },
   "outputs": [],
   "source": [
    "from sklearn.preprocessing import MinMaxScaler\n",
    "\n",
    "X = df.drop('label', axis=1)\n",
    "y = df['label']\n",
    "\n",
    "scaler = MinMaxScaler()\n",
    "X_scaled = pd.DataFrame(scaler.fit_transform(X), columns=X.columns)"
   ]
  },
  {
   "cell_type": "code",
   "execution_count": 9,
   "id": "4a5068ce",
   "metadata": {
    "execution": {
     "iopub.execute_input": "2025-08-07T13:54:01.454312Z",
     "iopub.status.busy": "2025-08-07T13:54:01.453930Z",
     "iopub.status.idle": "2025-08-07T13:54:02.005628Z",
     "shell.execute_reply": "2025-08-07T13:54:02.005041Z"
    },
    "papermill": {
     "duration": 0.556757,
     "end_time": "2025-08-07T13:54:02.007082",
     "exception": false,
     "start_time": "2025-08-07T13:54:01.450325",
     "status": "completed"
    },
    "tags": []
   },
   "outputs": [],
   "source": [
    "df_processed = X_scaled.copy()\n",
    "df_processed['label'] = y"
   ]
  },
  {
   "cell_type": "code",
   "execution_count": 10,
   "id": "0b6ac3f5",
   "metadata": {
    "execution": {
     "iopub.execute_input": "2025-08-07T13:54:02.013588Z",
     "iopub.status.busy": "2025-08-07T13:54:02.013051Z",
     "iopub.status.idle": "2025-08-07T13:54:14.245871Z",
     "shell.execute_reply": "2025-08-07T13:54:14.244909Z"
    },
    "papermill": {
     "duration": 12.237624,
     "end_time": "2025-08-07T13:54:14.247522",
     "exception": false,
     "start_time": "2025-08-07T13:54:02.009898",
     "status": "completed"
    },
    "tags": []
   },
   "outputs": [
    {
     "name": "stderr",
     "output_type": "stream",
     "text": [
      "2025-08-07 13:54:03.492152: E external/local_xla/xla/stream_executor/cuda/cuda_fft.cc:477] Unable to register cuFFT factory: Attempting to register factory for plugin cuFFT when one has already been registered\n",
      "WARNING: All log messages before absl::InitializeLog() is called are written to STDERR\n",
      "E0000 00:00:1754574843.668322      19 cuda_dnn.cc:8310] Unable to register cuDNN factory: Attempting to register factory for plugin cuDNN when one has already been registered\n",
      "E0000 00:00:1754574843.721757      19 cuda_blas.cc:1418] Unable to register cuBLAS factory: Attempting to register factory for plugin cuBLAS when one has already been registered\n"
     ]
    }
   ],
   "source": [
    "import tensorflow as tf\n",
    "import numpy as np\n",
    "from tensorflow.keras import layers, models"
   ]
  },
  {
   "cell_type": "code",
   "execution_count": 11,
   "id": "e91d4d1b",
   "metadata": {
    "execution": {
     "iopub.execute_input": "2025-08-07T13:54:14.254350Z",
     "iopub.status.busy": "2025-08-07T13:54:14.253907Z",
     "iopub.status.idle": "2025-08-07T13:54:14.258211Z",
     "shell.execute_reply": "2025-08-07T13:54:14.257667Z"
    },
    "papermill": {
     "duration": 0.008667,
     "end_time": "2025-08-07T13:54:14.259191",
     "exception": false,
     "start_time": "2025-08-07T13:54:14.250524",
     "status": "completed"
    },
    "tags": []
   },
   "outputs": [],
   "source": [
    "def get_encoder(input_dim, projection_dim):\n",
    "    inputs = layers.Input(shape=(input_dim,))\n",
    "    x = layers.Dense(256, activation='relu')(inputs)\n",
    "    x = layers.BatchNormalization()(x)\n",
    "    x = layers.Dense(128, activation='relu')(x)\n",
    "    outputs = layers.Dense(projection_dim)(x)\n",
    "    return models.Model(inputs, outputs, name=\"encoder\")"
   ]
  },
  {
   "cell_type": "code",
   "execution_count": 12,
   "id": "1da6e00f",
   "metadata": {
    "execution": {
     "iopub.execute_input": "2025-08-07T13:54:14.266271Z",
     "iopub.status.busy": "2025-08-07T13:54:14.265846Z",
     "iopub.status.idle": "2025-08-07T13:54:14.270222Z",
     "shell.execute_reply": "2025-08-07T13:54:14.269708Z"
    },
    "papermill": {
     "duration": 0.009421,
     "end_time": "2025-08-07T13:54:14.271224",
     "exception": false,
     "start_time": "2025-08-07T13:54:14.261803",
     "status": "completed"
    },
    "tags": []
   },
   "outputs": [],
   "source": [
    "def contrastive_loss(z_i, z_j, temperature=0.5):\n",
    "    z_i = tf.math.l2_normalize(z_i, axis=1)\n",
    "    z_j = tf.math.l2_normalize(z_j, axis=1)\n",
    "\n",
    "    batch_size = tf.shape(z_i)[0]\n",
    "\n",
    "    representations = tf.concat([z_i, z_j], axis=0)\n",
    "    similarity_matrix = tf.matmul(representations, representations, transpose_b=True)\n",
    "    logits = similarity_matrix / temperature\n",
    "\n",
    "    labels = tf.range(batch_size)\n",
    "    labels = tf.concat([labels, labels], axis=0)\n",
    "\n",
    "    mask = tf.eye(2 * batch_size)\n",
    "    logits = logits * (1 - mask) - 1e9 * mask  # mask out self-similarity\n",
    "\n",
    "    return tf.keras.losses.sparse_categorical_crossentropy(labels, logits, from_logits=True)"
   ]
  },
  {
   "cell_type": "code",
   "execution_count": 13,
   "id": "10973633",
   "metadata": {
    "execution": {
     "iopub.execute_input": "2025-08-07T13:54:14.277205Z",
     "iopub.status.busy": "2025-08-07T13:54:14.277032Z",
     "iopub.status.idle": "2025-08-07T13:54:14.280186Z",
     "shell.execute_reply": "2025-08-07T13:54:14.279677Z"
    },
    "papermill": {
     "duration": 0.007351,
     "end_time": "2025-08-07T13:54:14.281228",
     "exception": false,
     "start_time": "2025-08-07T13:54:14.273877",
     "status": "completed"
    },
    "tags": []
   },
   "outputs": [],
   "source": [
    "def augment(X, noise_factor=0.01):\n",
    "    noise = noise_factor * tf.random.normal(shape=tf.shape(X))\n",
    "    return X + noise"
   ]
  },
  {
   "cell_type": "code",
   "execution_count": 14,
   "id": "d4639b24",
   "metadata": {
    "execution": {
     "iopub.execute_input": "2025-08-07T13:54:14.287636Z",
     "iopub.status.busy": "2025-08-07T13:54:14.287127Z",
     "iopub.status.idle": "2025-08-07T13:54:14.292587Z",
     "shell.execute_reply": "2025-08-07T13:54:14.292100Z"
    },
    "papermill": {
     "duration": 0.009576,
     "end_time": "2025-08-07T13:54:14.293488",
     "exception": false,
     "start_time": "2025-08-07T13:54:14.283912",
     "status": "completed"
    },
    "tags": []
   },
   "outputs": [],
   "source": [
    "def train_moco(X, projection_dim=64, batch_size=256, epochs=2):\n",
    "    input_dim = X.shape[1]\n",
    "    encoder = get_encoder(input_dim, projection_dim)\n",
    "    optimizer = tf.keras.optimizers.Adam()\n",
    "\n",
    "    for epoch in range(epochs):\n",
    "        print(f\"Epoch {epoch + 1}/{epochs}\")\n",
    "        indices = np.random.permutation(len(X))\n",
    "        X_shuffled = tf.gather(X, indices)\n",
    "\n",
    "        for i in range(0, len(X), batch_size):\n",
    "            batch = X_shuffled[i:i + batch_size]\n",
    "            if tf.shape(batch)[0] < batch_size:\n",
    "                continue\n",
    "\n",
    "            with tf.GradientTape() as tape:\n",
    "                x1 = augment(batch)\n",
    "                x2 = augment(batch)\n",
    "\n",
    "                z1 = encoder(x1, training=True)\n",
    "                z2 = encoder(x2, training=True)\n",
    "\n",
    "                loss = contrastive_loss(z1, z2)\n",
    "\n",
    "            grads = tape.gradient(loss, encoder.trainable_variables)\n",
    "            optimizer.apply_gradients(zip(grads, encoder.trainable_variables))\n",
    "\n",
    "        print(f\"Loss: {tf.reduce_mean(loss).numpy():.4f}\")\n",
    "    \n",
    "    return encoder"
   ]
  },
  {
   "cell_type": "code",
   "execution_count": 15,
   "id": "d28c956c",
   "metadata": {
    "execution": {
     "iopub.execute_input": "2025-08-07T13:54:14.299427Z",
     "iopub.status.busy": "2025-08-07T13:54:14.299257Z",
     "iopub.status.idle": "2025-08-07T14:41:18.813193Z",
     "shell.execute_reply": "2025-08-07T14:41:18.812302Z"
    },
    "papermill": {
     "duration": 2824.518555,
     "end_time": "2025-08-07T14:41:18.814710",
     "exception": false,
     "start_time": "2025-08-07T13:54:14.296155",
     "status": "completed"
    },
    "tags": []
   },
   "outputs": [
    {
     "name": "stderr",
     "output_type": "stream",
     "text": [
      "I0000 00:00:1754574855.845274      19 gpu_device.cc:2022] Created device /job:localhost/replica:0/task:0/device:GPU:0 with 15513 MB memory:  -> device: 0, name: Tesla P100-PCIE-16GB, pci bus id: 0000:00:04.0, compute capability: 6.0\n"
     ]
    },
    {
     "name": "stdout",
     "output_type": "stream",
     "text": [
      "Epoch 1/2\n",
      "Loss: 500000000.0000\n",
      "Epoch 2/2\n",
      "Loss: 500000000.0000\n"
     ]
    },
    {
     "name": "stderr",
     "output_type": "stream",
     "text": [
      "WARNING: All log messages before absl::InitializeLog() is called are written to STDERR\n",
      "I0000 00:00:1754577388.741702      60 service.cc:148] XLA service 0x7a742c03d010 initialized for platform CUDA (this does not guarantee that XLA will be used). Devices:\n",
      "I0000 00:00:1754577388.742337      60 service.cc:156]   StreamExecutor device (0): Tesla P100-PCIE-16GB, Compute Capability 6.0\n",
      "I0000 00:00:1754577388.818156      60 cuda_dnn.cc:529] Loaded cuDNN version 90300\n"
     ]
    },
    {
     "name": "stdout",
     "output_type": "stream",
     "text": [
      "\u001b[1m   130/153076\u001b[0m \u001b[37m━━━━━━━━━━━━━━━━━━━━\u001b[0m \u001b[1m3:00\u001b[0m 1ms/step"
     ]
    },
    {
     "name": "stderr",
     "output_type": "stream",
     "text": [
      "I0000 00:00:1754577389.001431      60 device_compiler.h:188] Compiled cluster using XLA!  This line is logged at most once for the lifetime of the process.\n"
     ]
    },
    {
     "name": "stdout",
     "output_type": "stream",
     "text": [
      "\u001b[1m153076/153076\u001b[0m \u001b[32m━━━━━━━━━━━━━━━━━━━━\u001b[0m\u001b[37m\u001b[0m \u001b[1m181s\u001b[0m 1ms/step\n"
     ]
    }
   ],
   "source": [
    "encoder = train_moco(tf.convert_to_tensor(X_scaled.values, dtype=tf.float32))\n",
    "\n",
    "# Extract learned features\n",
    "features = encoder.predict(X_scaled.values)"
   ]
  }
 ],
 "metadata": {
  "kaggle": {
   "accelerator": "gpu",
   "dataSources": [
    {
     "datasetId": 90131,
     "sourceId": 208170,
     "sourceType": "datasetVersion"
    }
   ],
   "isGpuEnabled": true,
   "isInternetEnabled": true,
   "language": "python",
   "sourceType": "notebook"
  },
  "kernelspec": {
   "display_name": "Python 3",
   "language": "python",
   "name": "python3"
  },
  "language_info": {
   "codemirror_mode": {
    "name": "ipython",
    "version": 3
   },
   "file_extension": ".py",
   "mimetype": "text/x-python",
   "name": "python",
   "nbconvert_exporter": "python",
   "pygments_lexer": "ipython3",
   "version": "3.11.13"
  },
  "papermill": {
   "default_parameters": {},
   "duration": 2870.279618,
   "end_time": "2025-08-07T14:41:22.103004",
   "environment_variables": {},
   "exception": null,
   "input_path": "__notebook__.ipynb",
   "output_path": "__notebook__.ipynb",
   "parameters": {},
   "start_time": "2025-08-07T13:53:31.823386",
   "version": "2.6.0"
  }
 },
 "nbformat": 4,
 "nbformat_minor": 5
}
