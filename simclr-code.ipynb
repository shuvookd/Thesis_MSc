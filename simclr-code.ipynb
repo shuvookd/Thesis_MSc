{
 "cells": [
  {
   "cell_type": "markdown",
   "id": "8e34158a",
   "metadata": {
    "papermill": {
     "duration": 0.004646,
     "end_time": "2025-03-18T22:05:57.512380",
     "exception": false,
     "start_time": "2025-03-18T22:05:57.507734",
     "status": "completed"
    },
    "tags": []
   },
   "source": [
    "# Import Libraries"
   ]
  },
  {
   "cell_type": "code",
   "execution_count": 1,
   "id": "203579ba",
   "metadata": {
    "_cell_guid": "b1076dfc-b9ad-4769-8c92-a6c4dae69d19",
    "_uuid": "8f2839f25d086af736a60e9eeb907d3b93b6e0e5",
    "execution": {
     "iopub.execute_input": "2025-03-18T22:05:57.522161Z",
     "iopub.status.busy": "2025-03-18T22:05:57.521724Z",
     "iopub.status.idle": "2025-03-18T22:06:07.263384Z",
     "shell.execute_reply": "2025-03-18T22:06:07.262608Z"
    },
    "papermill": {
     "duration": 9.748521,
     "end_time": "2025-03-18T22:06:07.265272",
     "exception": false,
     "start_time": "2025-03-18T22:05:57.516751",
     "status": "completed"
    },
    "tags": []
   },
   "outputs": [],
   "source": [
    "import torch\n",
    "import torch.nn as nn\n",
    "import torch.optim as optim\n",
    "import torchvision.transforms as transforms\n",
    "import torchvision.datasets as datasets\n",
    "from torch.utils.data import DataLoader\n",
    "from torchvision.models import resnet18\n",
    "import numpy as np\n",
    "from sklearn.metrics import silhouette_score\n",
    "from sklearn.cluster import KMeans \n",
    "from tqdm import tqdm  \n",
    "import os\n",
    "from PIL import Image\n",
    "from torch.utils.data import Dataset"
   ]
  },
  {
   "cell_type": "markdown",
   "id": "d2dd22fc",
   "metadata": {
    "papermill": {
     "duration": 0.003397,
     "end_time": "2025-03-18T22:06:07.272644",
     "exception": false,
     "start_time": "2025-03-18T22:06:07.269247",
     "status": "completed"
    },
    "tags": []
   },
   "source": [
    "# Data Loading and Augmentation"
   ]
  },
  {
   "cell_type": "code",
   "execution_count": 2,
   "id": "0da71f10",
   "metadata": {
    "execution": {
     "iopub.execute_input": "2025-03-18T22:06:07.281416Z",
     "iopub.status.busy": "2025-03-18T22:06:07.281007Z",
     "iopub.status.idle": "2025-03-18T22:06:07.286333Z",
     "shell.execute_reply": "2025-03-18T22:06:07.285570Z"
    },
    "papermill": {
     "duration": 0.011427,
     "end_time": "2025-03-18T22:06:07.287811",
     "exception": false,
     "start_time": "2025-03-18T22:06:07.276384",
     "status": "completed"
    },
    "tags": []
   },
   "outputs": [],
   "source": [
    "class SimCLRTransform:\n",
    "    def __init__(self, size=96):\n",
    "        self.transform = transforms.Compose([\n",
    "            transforms.RandomResizedCrop(size=size),\n",
    "            transforms.RandomHorizontalFlip(),\n",
    "            transforms.RandomApply([transforms.ColorJitter(0.8, 0.8, 0.8, 0.2)], p=0.8),\n",
    "            transforms.RandomGrayscale(p=0.2),\n",
    "            transforms.GaussianBlur(kernel_size=int(0.1 * size)),\n",
    "            transforms.ToTensor(),\n",
    "            transforms.Normalize(mean=[0.485, 0.456, 0.406], std=[0.229, 0.224, 0.225])\n",
    "        ])\n",
    "\n",
    "    def __call__(self, x):\n",
    "        return self.transform(x), self.transform(x)"
   ]
  },
  {
   "cell_type": "code",
   "execution_count": 3,
   "id": "3fa76667",
   "metadata": {
    "execution": {
     "iopub.execute_input": "2025-03-18T22:06:07.296483Z",
     "iopub.status.busy": "2025-03-18T22:06:07.296235Z",
     "iopub.status.idle": "2025-03-18T22:06:08.145537Z",
     "shell.execute_reply": "2025-03-18T22:06:08.144731Z"
    },
    "papermill": {
     "duration": 0.855491,
     "end_time": "2025-03-18T22:06:08.147374",
     "exception": false,
     "start_time": "2025-03-18T22:06:07.291883",
     "status": "completed"
    },
    "tags": []
   },
   "outputs": [],
   "source": [
    "class UnlabeledImageDataset(Dataset):\n",
    "    def __init__(self, root_dir, transform=None):\n",
    "        self.root_dir = root_dir\n",
    "        self.transform = transform\n",
    "        self.image_files = [os.path.join(root_dir, f) for f in os.listdir(root_dir) if f.endswith(('.png', '.jpg', '.jpeg'))]\n",
    "\n",
    "    def __len__(self):\n",
    "        return len(self.image_files)\n",
    "\n",
    "    def __getitem__(self, idx):\n",
    "        image_path = self.image_files[idx]\n",
    "        image = Image.open(image_path).convert('RGB')  \n",
    "\n",
    "        if self.transform:\n",
    "            image = self.transform(image)\n",
    "\n",
    "        return image, -1 \n",
    "\n",
    "train_transform = SimCLRTransform(size=96)\n",
    "\n",
    "train_dataset = UnlabeledImageDataset(\n",
    "    root_dir='/kaggle/input/stl10/unlabeled_images',\n",
    "    transform=train_transform\n",
    ")\n",
    "\n",
    "train_loader = DataLoader(train_dataset, batch_size=128, shuffle=True, num_workers=4, drop_last=True)"
   ]
  },
  {
   "cell_type": "markdown",
   "id": "eb2976fd",
   "metadata": {
    "papermill": {
     "duration": 0.00354,
     "end_time": "2025-03-18T22:06:08.155048",
     "exception": false,
     "start_time": "2025-03-18T22:06:08.151508",
     "status": "completed"
    },
    "tags": []
   },
   "source": [
    "# Neural Network"
   ]
  },
  {
   "cell_type": "code",
   "execution_count": 4,
   "id": "9cb3c4cd",
   "metadata": {
    "execution": {
     "iopub.execute_input": "2025-03-18T22:06:08.163437Z",
     "iopub.status.busy": "2025-03-18T22:06:08.163146Z",
     "iopub.status.idle": "2025-03-18T22:06:08.168642Z",
     "shell.execute_reply": "2025-03-18T22:06:08.167712Z"
    },
    "papermill": {
     "duration": 0.011357,
     "end_time": "2025-03-18T22:06:08.170085",
     "exception": false,
     "start_time": "2025-03-18T22:06:08.158728",
     "status": "completed"
    },
    "tags": []
   },
   "outputs": [],
   "source": [
    "class SimCLR(nn.Module):\n",
    "    def __init__(self, base_encoder, projection_dim=128):\n",
    "        super(SimCLR, self).__init__()\n",
    "        self.encoder = base_encoder(pretrained=False)\n",
    "        self.feature_dim = self.encoder.fc.in_features\n",
    "        self.encoder.fc = nn.Identity()  # Remove the final classification layer\n",
    "\n",
    "        # Projection head\n",
    "        self.projection = nn.Sequential(\n",
    "            nn.Linear(self.feature_dim, self.feature_dim),\n",
    "            nn.ReLU(),\n",
    "            nn.Linear(self.feature_dim, projection_dim)\n",
    "        )\n",
    "\n",
    "    def forward(self, x):\n",
    "        h = self.encoder(x)\n",
    "        z = self.projection(h)\n",
    "        return h, z"
   ]
  },
  {
   "cell_type": "markdown",
   "id": "165890aa",
   "metadata": {
    "papermill": {
     "duration": 0.003331,
     "end_time": "2025-03-18T22:06:08.177129",
     "exception": false,
     "start_time": "2025-03-18T22:06:08.173798",
     "status": "completed"
    },
    "tags": []
   },
   "source": [
    "# Loss Function"
   ]
  },
  {
   "cell_type": "code",
   "execution_count": 5,
   "id": "c19c7716",
   "metadata": {
    "execution": {
     "iopub.execute_input": "2025-03-18T22:06:08.185364Z",
     "iopub.status.busy": "2025-03-18T22:06:08.185095Z",
     "iopub.status.idle": "2025-03-18T22:06:08.191097Z",
     "shell.execute_reply": "2025-03-18T22:06:08.190350Z"
    },
    "papermill": {
     "duration": 0.011601,
     "end_time": "2025-03-18T22:06:08.192386",
     "exception": false,
     "start_time": "2025-03-18T22:06:08.180785",
     "status": "completed"
    },
    "tags": []
   },
   "outputs": [],
   "source": [
    "class NTXentLoss(nn.Module):\n",
    "    def __init__(self, temperature=0.5):\n",
    "        super(NTXentLoss, self).__init__()\n",
    "        self.temperature = temperature\n",
    "        self.criterion = nn.CrossEntropyLoss(reduction=\"sum\")\n",
    "\n",
    "    def forward(self, z_i, z_j):\n",
    "        N = z_i.size(0)\n",
    "        z = torch.cat((z_i, z_j), dim=0)\n",
    "        sim = torch.matmul(z, z.T) / self.temperature\n",
    "\n",
    "        sim_i_j = torch.diag(sim, N)\n",
    "        sim_j_i = torch.diag(sim, -N)\n",
    "\n",
    "        positive_samples = torch.cat((sim_i_j, sim_j_i), dim=0).reshape(2 * N, 1)\n",
    "        negative_samples = sim[~torch.eye(2 * N, dtype=bool)].reshape(2 * N, -1)\n",
    "\n",
    "        labels = torch.zeros(2 * N).to(positive_samples.device).long()\n",
    "        logits = torch.cat((positive_samples, negative_samples), dim=1)\n",
    "        loss = self.criterion(logits, labels)\n",
    "        return loss / (2 * N)"
   ]
  },
  {
   "cell_type": "markdown",
   "id": "50db9a33",
   "metadata": {
    "papermill": {
     "duration": 0.003436,
     "end_time": "2025-03-18T22:06:08.199645",
     "exception": false,
     "start_time": "2025-03-18T22:06:08.196209",
     "status": "completed"
    },
    "tags": []
   },
   "source": [
    "# Model Training "
   ]
  },
  {
   "cell_type": "code",
   "execution_count": 6,
   "id": "778cd9e4",
   "metadata": {
    "execution": {
     "iopub.execute_input": "2025-03-18T22:06:08.207915Z",
     "iopub.status.busy": "2025-03-18T22:06:08.207604Z",
     "iopub.status.idle": "2025-03-18T22:06:08.213325Z",
     "shell.execute_reply": "2025-03-18T22:06:08.212617Z"
    },
    "papermill": {
     "duration": 0.011164,
     "end_time": "2025-03-18T22:06:08.214536",
     "exception": false,
     "start_time": "2025-03-18T22:06:08.203372",
     "status": "completed"
    },
    "tags": []
   },
   "outputs": [],
   "source": [
    "def train_simclr(model, train_loader, optimizer, criterion, epochs=25, device='cuda'):\n",
    "    model.to(device)\n",
    "    for epoch in range(epochs):\n",
    "        model.train()\n",
    "        total_loss = 0\n",
    "\n",
    "        train_loader_tqdm = tqdm(train_loader, desc=f\"Epoch [{epoch+1}/{epochs}]\", leave=False)\n",
    "\n",
    "        for (x_i, x_j), _ in train_loader_tqdm:\n",
    "            x_i, x_j = x_i.to(device), x_j.to(device)\n",
    "\n",
    "            optimizer.zero_grad()\n",
    "            h_i, z_i = model(x_i)\n",
    "            h_j, z_j = model(x_j)\n",
    "            loss = criterion(z_i, z_j)\n",
    "            loss.backward()\n",
    "            optimizer.step()\n",
    "\n",
    "            total_loss += loss.item()\n",
    "\n",
    "            train_loader_tqdm.set_postfix(loss=loss.item())\n",
    "\n",
    "        avg_loss = total_loss / len(train_loader)\n",
    "        print(f\"Epoch [{epoch+1}/{epochs}], Loss: {avg_loss:.3f}\")"
   ]
  },
  {
   "cell_type": "code",
   "execution_count": 7,
   "id": "0a5d74c8",
   "metadata": {
    "execution": {
     "iopub.execute_input": "2025-03-18T22:06:08.222661Z",
     "iopub.status.busy": "2025-03-18T22:06:08.222416Z",
     "iopub.status.idle": "2025-03-18T22:06:08.768105Z",
     "shell.execute_reply": "2025-03-18T22:06:08.767080Z"
    },
    "papermill": {
     "duration": 0.551785,
     "end_time": "2025-03-18T22:06:08.770061",
     "exception": false,
     "start_time": "2025-03-18T22:06:08.218276",
     "status": "completed"
    },
    "tags": []
   },
   "outputs": [
    {
     "name": "stderr",
     "output_type": "stream",
     "text": [
      "/usr/local/lib/python3.10/dist-packages/torchvision/models/_utils.py:208: UserWarning: The parameter 'pretrained' is deprecated since 0.13 and may be removed in the future, please use 'weights' instead.\n",
      "  warnings.warn(\n",
      "/usr/local/lib/python3.10/dist-packages/torchvision/models/_utils.py:223: UserWarning: Arguments other than a weight enum or `None` for 'weights' are deprecated since 0.13 and may be removed in the future. The current behavior is equivalent to passing `weights=None`.\n",
      "  warnings.warn(msg)\n"
     ]
    }
   ],
   "source": [
    "device = 'cuda' if torch.cuda.is_available() else 'cpu'\n",
    "model = SimCLR(base_encoder=resnet18, projection_dim=128).to(device)\n",
    "optimizer = optim.Adam(model.parameters(), lr=3e-4)\n",
    "criterion = NTXentLoss(temperature=0.5)"
   ]
  },
  {
   "cell_type": "code",
   "execution_count": 8,
   "id": "ef58a5ef",
   "metadata": {
    "execution": {
     "iopub.execute_input": "2025-03-18T22:06:08.779085Z",
     "iopub.status.busy": "2025-03-18T22:06:08.778747Z",
     "iopub.status.idle": "2025-03-19T01:17:48.659012Z",
     "shell.execute_reply": "2025-03-19T01:17:48.657615Z"
    },
    "papermill": {
     "duration": 11499.886464,
     "end_time": "2025-03-19T01:17:48.660698",
     "exception": false,
     "start_time": "2025-03-18T22:06:08.774234",
     "status": "completed"
    },
    "tags": []
   },
   "outputs": [
    {
     "name": "stderr",
     "output_type": "stream",
     "text": [
      "                                                                          \r"
     ]
    },
    {
     "name": "stdout",
     "output_type": "stream",
     "text": [
      "Epoch [1/25], Loss: 4.331\n"
     ]
    },
    {
     "name": "stderr",
     "output_type": "stream",
     "text": [
      "                                                                          \r"
     ]
    },
    {
     "name": "stdout",
     "output_type": "stream",
     "text": [
      "Epoch [2/25], Loss: 3.075\n"
     ]
    },
    {
     "name": "stderr",
     "output_type": "stream",
     "text": [
      "                                                                          \r"
     ]
    },
    {
     "name": "stdout",
     "output_type": "stream",
     "text": [
      "Epoch [3/25], Loss: 2.588\n"
     ]
    },
    {
     "name": "stderr",
     "output_type": "stream",
     "text": [
      "                                                                          \r"
     ]
    },
    {
     "name": "stdout",
     "output_type": "stream",
     "text": [
      "Epoch [4/25], Loss: 2.345\n"
     ]
    },
    {
     "name": "stderr",
     "output_type": "stream",
     "text": [
      "                                                                          \r"
     ]
    },
    {
     "name": "stdout",
     "output_type": "stream",
     "text": [
      "Epoch [5/25], Loss: 2.188\n"
     ]
    },
    {
     "name": "stderr",
     "output_type": "stream",
     "text": [
      "                                                                          \r"
     ]
    },
    {
     "name": "stdout",
     "output_type": "stream",
     "text": [
      "Epoch [6/25], Loss: 2.063\n"
     ]
    },
    {
     "name": "stderr",
     "output_type": "stream",
     "text": [
      "                                                                          \r"
     ]
    },
    {
     "name": "stdout",
     "output_type": "stream",
     "text": [
      "Epoch [7/25], Loss: 1.976\n"
     ]
    },
    {
     "name": "stderr",
     "output_type": "stream",
     "text": [
      "                                                                          \r"
     ]
    },
    {
     "name": "stdout",
     "output_type": "stream",
     "text": [
      "Epoch [8/25], Loss: 1.914\n"
     ]
    },
    {
     "name": "stderr",
     "output_type": "stream",
     "text": [
      "                                                                          \r"
     ]
    },
    {
     "name": "stdout",
     "output_type": "stream",
     "text": [
      "Epoch [9/25], Loss: 1.858\n"
     ]
    },
    {
     "name": "stderr",
     "output_type": "stream",
     "text": [
      "                                                                           \r"
     ]
    },
    {
     "name": "stdout",
     "output_type": "stream",
     "text": [
      "Epoch [10/25], Loss: 1.806\n"
     ]
    },
    {
     "name": "stderr",
     "output_type": "stream",
     "text": [
      "                                                                           \r"
     ]
    },
    {
     "name": "stdout",
     "output_type": "stream",
     "text": [
      "Epoch [11/25], Loss: 1.761\n"
     ]
    },
    {
     "name": "stderr",
     "output_type": "stream",
     "text": [
      "                                                                          \r"
     ]
    },
    {
     "name": "stdout",
     "output_type": "stream",
     "text": [
      "Epoch [12/25], Loss: 1.725\n"
     ]
    },
    {
     "name": "stderr",
     "output_type": "stream",
     "text": [
      "                                                                          \r"
     ]
    },
    {
     "name": "stdout",
     "output_type": "stream",
     "text": [
      "Epoch [13/25], Loss: 1.685\n"
     ]
    },
    {
     "name": "stderr",
     "output_type": "stream",
     "text": [
      "                                                                           \r"
     ]
    },
    {
     "name": "stdout",
     "output_type": "stream",
     "text": [
      "Epoch [14/25], Loss: 1.651\n"
     ]
    },
    {
     "name": "stderr",
     "output_type": "stream",
     "text": [
      "                                                                           \r"
     ]
    },
    {
     "name": "stdout",
     "output_type": "stream",
     "text": [
      "Epoch [15/25], Loss: 1.625\n"
     ]
    },
    {
     "name": "stderr",
     "output_type": "stream",
     "text": [
      "                                                                           \r"
     ]
    },
    {
     "name": "stdout",
     "output_type": "stream",
     "text": [
      "Epoch [16/25], Loss: 1.604\n"
     ]
    },
    {
     "name": "stderr",
     "output_type": "stream",
     "text": [
      "                                                                           \r"
     ]
    },
    {
     "name": "stdout",
     "output_type": "stream",
     "text": [
      "Epoch [17/25], Loss: 1.574\n"
     ]
    },
    {
     "name": "stderr",
     "output_type": "stream",
     "text": [
      "                                                                           \r"
     ]
    },
    {
     "name": "stdout",
     "output_type": "stream",
     "text": [
      "Epoch [18/25], Loss: 1.554\n"
     ]
    },
    {
     "name": "stderr",
     "output_type": "stream",
     "text": [
      "                                                                           \r"
     ]
    },
    {
     "name": "stdout",
     "output_type": "stream",
     "text": [
      "Epoch [19/25], Loss: 1.537\n"
     ]
    },
    {
     "name": "stderr",
     "output_type": "stream",
     "text": [
      "                                                                           \r"
     ]
    },
    {
     "name": "stdout",
     "output_type": "stream",
     "text": [
      "Epoch [20/25], Loss: 1.521\n"
     ]
    },
    {
     "name": "stderr",
     "output_type": "stream",
     "text": [
      "                                                                           \r"
     ]
    },
    {
     "name": "stdout",
     "output_type": "stream",
     "text": [
      "Epoch [21/25], Loss: 1.506\n"
     ]
    },
    {
     "name": "stderr",
     "output_type": "stream",
     "text": [
      "                                                                          \r"
     ]
    },
    {
     "name": "stdout",
     "output_type": "stream",
     "text": [
      "Epoch [22/25], Loss: 1.490\n"
     ]
    },
    {
     "name": "stderr",
     "output_type": "stream",
     "text": [
      "                                                                          \r"
     ]
    },
    {
     "name": "stdout",
     "output_type": "stream",
     "text": [
      "Epoch [23/25], Loss: 1.472\n"
     ]
    },
    {
     "name": "stderr",
     "output_type": "stream",
     "text": [
      "                                                                           \r"
     ]
    },
    {
     "name": "stdout",
     "output_type": "stream",
     "text": [
      "Epoch [24/25], Loss: 1.455\n"
     ]
    },
    {
     "name": "stderr",
     "output_type": "stream",
     "text": [
      "                                                                           "
     ]
    },
    {
     "name": "stdout",
     "output_type": "stream",
     "text": [
      "Epoch [25/25], Loss: 1.446\n"
     ]
    },
    {
     "name": "stderr",
     "output_type": "stream",
     "text": [
      "\r"
     ]
    }
   ],
   "source": [
    "train_simclr(model, train_loader, optimizer, criterion, epochs=25, device=device)\n",
    "torch.save(model.state_dict(), '/kaggle/working/simclr_stl10.pth')"
   ]
  },
  {
   "cell_type": "markdown",
   "id": "5689af6f",
   "metadata": {
    "papermill": {
     "duration": 2.083093,
     "end_time": "2025-03-19T01:17:52.856292",
     "exception": false,
     "start_time": "2025-03-19T01:17:50.773199",
     "status": "completed"
    },
    "tags": []
   },
   "source": [
    "# Extract Embeddings"
   ]
  },
  {
   "cell_type": "code",
   "execution_count": 9,
   "id": "3184538b",
   "metadata": {
    "execution": {
     "iopub.execute_input": "2025-03-19T01:17:56.944319Z",
     "iopub.status.busy": "2025-03-19T01:17:56.943976Z",
     "iopub.status.idle": "2025-03-19T01:24:42.586823Z",
     "shell.execute_reply": "2025-03-19T01:24:42.585589Z"
    },
    "papermill": {
     "duration": 409.864547,
     "end_time": "2025-03-19T01:24:44.649578",
     "exception": false,
     "start_time": "2025-03-19T01:17:54.785031",
     "status": "completed"
    },
    "tags": []
   },
   "outputs": [
    {
     "name": "stdout",
     "output_type": "stream",
     "text": [
      "Extracted embeddings shape: torch.Size([99968, 512])\n"
     ]
    }
   ],
   "source": [
    "def extract_embeddings(model, dataloader, device='cuda'):\n",
    "    model.eval()\n",
    "    embeddings = []\n",
    "    with torch.no_grad():\n",
    "        for (x_i, x_j), _ in dataloader:\n",
    "            x_i = x_i.to(device)\n",
    "            h_i, _ = model(x_i) \n",
    "            embeddings.append(h_i.cpu())\n",
    "    return torch.cat(embeddings, dim=0)\n",
    "\n",
    "embeddings = extract_embeddings(model, train_loader, device=device)\n",
    "print(f\"Extracted embeddings shape: {embeddings.shape}\")"
   ]
  },
  {
   "cell_type": "markdown",
   "id": "94e7c340",
   "metadata": {
    "papermill": {
     "duration": 2.157019,
     "end_time": "2025-03-19T01:24:48.735235",
     "exception": false,
     "start_time": "2025-03-19T01:24:46.578216",
     "status": "completed"
    },
    "tags": []
   },
   "source": [
    "# Determine the Number of Clusters"
   ]
  },
  {
   "cell_type": "markdown",
   "id": "ba5da496",
   "metadata": {
    "papermill": {
     "duration": 2.202252,
     "end_time": "2025-03-19T01:24:52.950924",
     "exception": false,
     "start_time": "2025-03-19T01:24:50.748672",
     "status": "completed"
    },
    "tags": []
   },
   "source": [
    "**Silhouette Score**"
   ]
  },
  {
   "cell_type": "code",
   "execution_count": 10,
   "id": "e9776d92",
   "metadata": {
    "execution": {
     "iopub.execute_input": "2025-03-19T01:24:57.107177Z",
     "iopub.status.busy": "2025-03-19T01:24:57.106752Z",
     "iopub.status.idle": "2025-03-19T01:24:57.932909Z",
     "shell.execute_reply": "2025-03-19T01:24:57.931625Z"
    },
    "papermill": {
     "duration": 3.044383,
     "end_time": "2025-03-19T01:24:57.934288",
     "exception": true,
     "start_time": "2025-03-19T01:24:54.889905",
     "status": "failed"
    },
    "tags": []
   },
   "outputs": [
    {
     "name": "stderr",
     "output_type": "stream",
     "text": [
      "/usr/local/lib/python3.10/dist-packages/sklearn/cluster/_kmeans.py:870: FutureWarning: The default value of `n_init` will change from 10 to 'auto' in 1.4. Set the value of `n_init` explicitly to suppress the warning\n",
      "  warnings.warn(\n"
     ]
    },
    {
     "ename": "ValueError",
     "evalue": "Number of labels is 1. Valid values are 2 to n_samples - 1 (inclusive)",
     "output_type": "error",
     "traceback": [
      "\u001b[0;31m---------------------------------------------------------------------------\u001b[0m",
      "\u001b[0;31mValueError\u001b[0m                                Traceback (most recent call last)",
      "\u001b[0;32m<ipython-input-10-062c0db0d1b3>\u001b[0m in \u001b[0;36m<cell line: 7>\u001b[0;34m()\u001b[0m\n\u001b[1;32m      8\u001b[0m     \u001b[0mkmeans\u001b[0m \u001b[0;34m=\u001b[0m \u001b[0mKMeans\u001b[0m\u001b[0;34m(\u001b[0m\u001b[0mn_clusters\u001b[0m\u001b[0;34m=\u001b[0m\u001b[0mk\u001b[0m\u001b[0;34m,\u001b[0m \u001b[0mrandom_state\u001b[0m\u001b[0;34m=\u001b[0m\u001b[0;36m42\u001b[0m\u001b[0;34m)\u001b[0m\u001b[0;34m\u001b[0m\u001b[0;34m\u001b[0m\u001b[0m\n\u001b[1;32m      9\u001b[0m     \u001b[0mlabels\u001b[0m \u001b[0;34m=\u001b[0m \u001b[0mkmeans\u001b[0m\u001b[0;34m.\u001b[0m\u001b[0mfit_predict\u001b[0m\u001b[0;34m(\u001b[0m\u001b[0msampled_embeddings\u001b[0m\u001b[0;34m)\u001b[0m\u001b[0;34m\u001b[0m\u001b[0;34m\u001b[0m\u001b[0m\n\u001b[0;32m---> 10\u001b[0;31m     \u001b[0mscore\u001b[0m \u001b[0;34m=\u001b[0m \u001b[0msilhouette_score\u001b[0m\u001b[0;34m(\u001b[0m\u001b[0msampled_embeddings\u001b[0m\u001b[0;34m,\u001b[0m \u001b[0mlabels\u001b[0m\u001b[0;34m)\u001b[0m\u001b[0;34m\u001b[0m\u001b[0;34m\u001b[0m\u001b[0m\n\u001b[0m\u001b[1;32m     11\u001b[0m     \u001b[0msilhouette_scores\u001b[0m\u001b[0;34m.\u001b[0m\u001b[0mappend\u001b[0m\u001b[0;34m(\u001b[0m\u001b[0mscore\u001b[0m\u001b[0;34m)\u001b[0m\u001b[0;34m\u001b[0m\u001b[0;34m\u001b[0m\u001b[0m\n\u001b[1;32m     12\u001b[0m \u001b[0;34m\u001b[0m\u001b[0m\n",
      "\u001b[0;32m/usr/local/lib/python3.10/dist-packages/sklearn/metrics/cluster/_unsupervised.py\u001b[0m in \u001b[0;36msilhouette_score\u001b[0;34m(X, labels, metric, sample_size, random_state, **kwds)\u001b[0m\n\u001b[1;32m    115\u001b[0m         \u001b[0;32melse\u001b[0m\u001b[0;34m:\u001b[0m\u001b[0;34m\u001b[0m\u001b[0;34m\u001b[0m\u001b[0m\n\u001b[1;32m    116\u001b[0m             \u001b[0mX\u001b[0m\u001b[0;34m,\u001b[0m \u001b[0mlabels\u001b[0m \u001b[0;34m=\u001b[0m \u001b[0mX\u001b[0m\u001b[0;34m[\u001b[0m\u001b[0mindices\u001b[0m\u001b[0;34m]\u001b[0m\u001b[0;34m,\u001b[0m \u001b[0mlabels\u001b[0m\u001b[0;34m[\u001b[0m\u001b[0mindices\u001b[0m\u001b[0;34m]\u001b[0m\u001b[0;34m\u001b[0m\u001b[0;34m\u001b[0m\u001b[0m\n\u001b[0;32m--> 117\u001b[0;31m     \u001b[0;32mreturn\u001b[0m \u001b[0mnp\u001b[0m\u001b[0;34m.\u001b[0m\u001b[0mmean\u001b[0m\u001b[0;34m(\u001b[0m\u001b[0msilhouette_samples\u001b[0m\u001b[0;34m(\u001b[0m\u001b[0mX\u001b[0m\u001b[0;34m,\u001b[0m \u001b[0mlabels\u001b[0m\u001b[0;34m,\u001b[0m \u001b[0mmetric\u001b[0m\u001b[0;34m=\u001b[0m\u001b[0mmetric\u001b[0m\u001b[0;34m,\u001b[0m \u001b[0;34m**\u001b[0m\u001b[0mkwds\u001b[0m\u001b[0;34m)\u001b[0m\u001b[0;34m)\u001b[0m\u001b[0;34m\u001b[0m\u001b[0;34m\u001b[0m\u001b[0m\n\u001b[0m\u001b[1;32m    118\u001b[0m \u001b[0;34m\u001b[0m\u001b[0m\n\u001b[1;32m    119\u001b[0m \u001b[0;34m\u001b[0m\u001b[0m\n",
      "\u001b[0;32m/usr/local/lib/python3.10/dist-packages/sklearn/metrics/cluster/_unsupervised.py\u001b[0m in \u001b[0;36msilhouette_samples\u001b[0;34m(X, labels, metric, **kwds)\u001b[0m\n\u001b[1;32m    229\u001b[0m     \u001b[0mn_samples\u001b[0m \u001b[0;34m=\u001b[0m \u001b[0mlen\u001b[0m\u001b[0;34m(\u001b[0m\u001b[0mlabels\u001b[0m\u001b[0;34m)\u001b[0m\u001b[0;34m\u001b[0m\u001b[0;34m\u001b[0m\u001b[0m\n\u001b[1;32m    230\u001b[0m     \u001b[0mlabel_freqs\u001b[0m \u001b[0;34m=\u001b[0m \u001b[0mnp\u001b[0m\u001b[0;34m.\u001b[0m\u001b[0mbincount\u001b[0m\u001b[0;34m(\u001b[0m\u001b[0mlabels\u001b[0m\u001b[0;34m)\u001b[0m\u001b[0;34m\u001b[0m\u001b[0;34m\u001b[0m\u001b[0m\n\u001b[0;32m--> 231\u001b[0;31m     \u001b[0mcheck_number_of_labels\u001b[0m\u001b[0;34m(\u001b[0m\u001b[0mlen\u001b[0m\u001b[0;34m(\u001b[0m\u001b[0mle\u001b[0m\u001b[0;34m.\u001b[0m\u001b[0mclasses_\u001b[0m\u001b[0;34m)\u001b[0m\u001b[0;34m,\u001b[0m \u001b[0mn_samples\u001b[0m\u001b[0;34m)\u001b[0m\u001b[0;34m\u001b[0m\u001b[0;34m\u001b[0m\u001b[0m\n\u001b[0m\u001b[1;32m    232\u001b[0m \u001b[0;34m\u001b[0m\u001b[0m\n\u001b[1;32m    233\u001b[0m     \u001b[0mkwds\u001b[0m\u001b[0;34m[\u001b[0m\u001b[0;34m\"metric\"\u001b[0m\u001b[0;34m]\u001b[0m \u001b[0;34m=\u001b[0m \u001b[0mmetric\u001b[0m\u001b[0;34m\u001b[0m\u001b[0;34m\u001b[0m\u001b[0m\n",
      "\u001b[0;32m/usr/local/lib/python3.10/dist-packages/sklearn/metrics/cluster/_unsupervised.py\u001b[0m in \u001b[0;36mcheck_number_of_labels\u001b[0;34m(n_labels, n_samples)\u001b[0m\n\u001b[1;32m     31\u001b[0m     \"\"\"\n\u001b[1;32m     32\u001b[0m     \u001b[0;32mif\u001b[0m \u001b[0;32mnot\u001b[0m \u001b[0;36m1\u001b[0m \u001b[0;34m<\u001b[0m \u001b[0mn_labels\u001b[0m \u001b[0;34m<\u001b[0m \u001b[0mn_samples\u001b[0m\u001b[0;34m:\u001b[0m\u001b[0;34m\u001b[0m\u001b[0;34m\u001b[0m\u001b[0m\n\u001b[0;32m---> 33\u001b[0;31m         raise ValueError(\n\u001b[0m\u001b[1;32m     34\u001b[0m             \u001b[0;34m\"Number of labels is %d. Valid values are 2 to n_samples - 1 (inclusive)\"\u001b[0m\u001b[0;34m\u001b[0m\u001b[0;34m\u001b[0m\u001b[0m\n\u001b[1;32m     35\u001b[0m             \u001b[0;34m%\u001b[0m \u001b[0mn_labels\u001b[0m\u001b[0;34m\u001b[0m\u001b[0;34m\u001b[0m\u001b[0m\n",
      "\u001b[0;31mValueError\u001b[0m: Number of labels is 1. Valid values are 2 to n_samples - 1 (inclusive)"
     ]
    }
   ],
   "source": [
    "sample_size = 20000  \n",
    "indices = np.random.choice(embeddings.shape[0], size=sample_size, replace=False)\n",
    "sampled_embeddings = embeddings.numpy()[indices]\n",
    "\n",
    "silhouette_scores = []\n",
    "k_values = range(1, 20) \n",
    "for k in k_values:\n",
    "    kmeans = KMeans(n_clusters=k, random_state=42)\n",
    "    labels = kmeans.fit_predict(sampled_embeddings)\n",
    "    score = silhouette_score(sampled_embeddings, labels)\n",
    "    silhouette_scores.append(score)\n",
    "\n",
    "# Plot the Silhouette Scores\n",
    "plt.plot(k_values, silhouette_scores, marker='o')\n",
    "plt.xlabel('Number of Clusters (k)')\n",
    "plt.ylabel('Silhouette Score')\n",
    "plt.title('Silhouette Score for Optimal k (Subsampled Data)')\n",
    "plt.show()"
   ]
  },
  {
   "cell_type": "markdown",
   "id": "fac51d01",
   "metadata": {
    "papermill": {
     "duration": null,
     "end_time": null,
     "exception": null,
     "start_time": null,
     "status": "pending"
    },
    "tags": []
   },
   "source": [
    "**Visualize Clusters**"
   ]
  },
  {
   "cell_type": "code",
   "execution_count": null,
   "id": "6123c4e3",
   "metadata": {
    "execution": {
     "iopub.execute_input": "2025-03-18T21:53:14.973967Z",
     "iopub.status.busy": "2025-03-18T21:53:14.973620Z",
     "iopub.status.idle": "2025-03-18T21:53:34.717953Z",
     "shell.execute_reply": "2025-03-18T21:53:34.717011Z",
     "shell.execute_reply.started": "2025-03-18T21:53:14.973937Z"
    },
    "papermill": {
     "duration": null,
     "end_time": null,
     "exception": null,
     "start_time": null,
     "status": "pending"
    },
    "tags": []
   },
   "outputs": [],
   "source": [
    "optimal_k = 10  \n",
    "kmeans = KMeans(n_clusters=optimal_k, random_state=42)\n",
    "cluster_labels = kmeans.fit_predict(embeddings.numpy())\n",
    "\n",
    "plt.scatter(embeddings_2d[:, 0], embeddings_2d[:, 1], c=cluster_labels, cmap='viridis', s=1)\n",
    "plt.title(f\"Clusters in SimCLR Embeddings (k={optimal_k})\")\n",
    "plt.colorbar()\n",
    "plt.show()"
   ]
  }
 ],
 "metadata": {
  "kaggle": {
   "accelerator": "gpu",
   "dataSources": [
    {
     "datasetId": 30516,
     "sourceId": 39470,
     "sourceType": "datasetVersion"
    }
   ],
   "dockerImageVersionId": 30919,
   "isGpuEnabled": true,
   "isInternetEnabled": true,
   "language": "python",
   "sourceType": "notebook"
  },
  "kernelspec": {
   "display_name": "Python 3",
   "language": "python",
   "name": "python3"
  },
  "language_info": {
   "codemirror_mode": {
    "name": "ipython",
    "version": 3
   },
   "file_extension": ".py",
   "mimetype": "text/x-python",
   "name": "python",
   "nbconvert_exporter": "python",
   "pygments_lexer": "ipython3",
   "version": "3.10.12"
  },
  "papermill": {
   "default_parameters": {},
   "duration": 11947.72816,
   "end_time": "2025-03-19T01:25:02.211231",
   "environment_variables": {},
   "exception": true,
   "input_path": "__notebook__.ipynb",
   "output_path": "__notebook__.ipynb",
   "parameters": {},
   "start_time": "2025-03-18T22:05:54.483071",
   "version": "2.6.0"
  }
 },
 "nbformat": 4,
 "nbformat_minor": 5
}
